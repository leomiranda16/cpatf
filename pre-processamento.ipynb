{
 "cells": [
  {
   "cell_type": "code",
   "execution_count": 2,
   "metadata": {},
   "outputs": [],
   "source": [
    "import pandas as pd"
   ]
  },
  {
   "cell_type": "code",
   "execution_count": 121,
   "metadata": {},
   "outputs": [],
   "source": [
    "GERAL = pd.read_csv('GERAL.csv', delimiter=';')\n",
    "MAES_NOVAS = pd.read_csv('MAES_NOVAS.csv', delimiter=';')\n",
    "MAES_VELHAS = pd.read_csv('MAES_VELHAS.csv', delimiter=';')"
   ]
  },
  {
   "cell_type": "code",
   "execution_count": 123,
   "metadata": {},
   "outputs": [
    {
     "name": "stderr",
     "output_type": "stream",
     "text": [
      "C:\\Users\\guilh\\AppData\\Local\\Temp\\ipykernel_34536\\3175503835.py:3: SettingWithCopyWarning: \n",
      "A value is trying to be set on a copy of a slice from a DataFrame.\n",
      "Try using .loc[row_indexer,col_indexer] = value instead\n",
      "\n",
      "See the caveats in the documentation: https://pandas.pydata.org/pandas-docs/stable/user_guide/indexing.html#returning-a-view-versus-a-copy\n",
      "  dataFrame[numeric_cols] = dataFrame[numeric_cols].astype(int)\n",
      "C:\\Users\\guilh\\AppData\\Local\\Temp\\ipykernel_34536\\3175503835.py:3: SettingWithCopyWarning: \n",
      "A value is trying to be set on a copy of a slice from a DataFrame.\n",
      "Try using .loc[row_indexer,col_indexer] = value instead\n",
      "\n",
      "See the caveats in the documentation: https://pandas.pydata.org/pandas-docs/stable/user_guide/indexing.html#returning-a-view-versus-a-copy\n",
      "  dataFrame[numeric_cols] = dataFrame[numeric_cols].astype(int)\n",
      "C:\\Users\\guilh\\AppData\\Local\\Temp\\ipykernel_34536\\3175503835.py:3: SettingWithCopyWarning: \n",
      "A value is trying to be set on a copy of a slice from a DataFrame.\n",
      "Try using .loc[row_indexer,col_indexer] = value instead\n",
      "\n",
      "See the caveats in the documentation: https://pandas.pydata.org/pandas-docs/stable/user_guide/indexing.html#returning-a-view-versus-a-copy\n",
      "  dataFrame[numeric_cols] = dataFrame[numeric_cols].astype(int)\n"
     ]
    }
   ],
   "source": [
    "def conversao(dataFrame):\n",
    "    numeric_cols = dataFrame.select_dtypes(include=['float']).columns\n",
    "    dataFrame[numeric_cols] = dataFrame[numeric_cols].astype(int)\n",
    "    return dataFrame\n",
    "\n",
    "MAES_NOVAS_NORMALIZADO = conversao(MAES_NOVAS.dropna())\n",
    "MAES_VELHAS_NORMALIZADO = conversao(MAES_VELHAS.dropna())\n",
    "GERAL_NORMALIZADO = conversao(GERAL.dropna())\n",
    "\n",
    "MAES_NOVAS_NORMALIZADO.to_csv('MAES_NOVAS_NORMALIZADO.csv', index=False, sep=';')\n",
    "MAES_VELHAS_NORMALIZADO.to_csv('MAES_VELHAS_NORMALIZADO.csv', index=False, sep=';')\n",
    "GERAL_NORMALIZADO.to_csv('GERAL_NORMALIZADO.csv', index=False, sep=';')"
   ]
  },
  {
   "cell_type": "code",
   "execution_count": 12,
   "metadata": {},
   "outputs": [],
   "source": [
    "TEMPO_GESTACAO = pd.read_csv('TEMPO_GESTACAO.csv',index_col=0,sep=';')\n",
    "GERAL_NORMALIZADO = pd.read_csv('CONCAT2.csv',index_col=0,sep=';')\n",
    "TEMPO_GESTACAO_NORMALIZADO = pd.merge(TEMPO_GESTACAO, GERAL_NORMALIZADO, on='Peso')\n",
    "TEMPO_GESTACAO_NORMALIZADO.drop(axis=1,columns='Total_x',inplace=True)\n",
    "TEMPO_GESTACAO_NORMALIZADO.rename(columns={'Total_y': 'Total'}, inplace=True)\n",
    "TEMPO_GESTACAO_NORMALIZADO.to_csv('DataSet_Final.csv',sep=';')"
   ]
  },
  {
   "cell_type": "code",
   "execution_count": null,
   "metadata": {},
   "outputs": [],
   "source": []
  }
 ],
 "metadata": {
  "kernelspec": {
   "display_name": "Python 3",
   "language": "python",
   "name": "python3"
  },
  "language_info": {
   "codemirror_mode": {
    "name": "ipython",
    "version": 3
   },
   "file_extension": ".py",
   "mimetype": "text/x-python",
   "name": "python",
   "nbconvert_exporter": "python",
   "pygments_lexer": "ipython3",
   "version": "3.11.9"
  }
 },
 "nbformat": 4,
 "nbformat_minor": 2
}
